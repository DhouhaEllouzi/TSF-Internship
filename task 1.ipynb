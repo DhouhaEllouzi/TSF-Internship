{
 "cells": [
  {
   "cell_type": "markdown",
   "id": "e502312b-8021-4bd8-91fd-01b6069d7762",
   "metadata": {},
   "source": [
    "# The Spark Foundation:Data Science And Business Analytics Tasks "
   ]
  },
  {
   "cell_type": "markdown",
   "id": "5bb56cd3-2417-414c-b5f3-d618100e5391",
   "metadata": {},
   "source": [
    "### Task 1 : Prediction using Supervised ML \"Linear Regression\""
   ]
  },
  {
   "cell_type": "markdown",
   "id": "86902643-d373-4408-83fb-edcf6e474f17",
   "metadata": {},
   "source": [
    "#### Author : Dhouha ELLOUZI"
   ]
  },
  {
   "cell_type": "markdown",
   "id": "b28f7645-52e4-44c4-a3c7-cadd36214172",
   "metadata": {},
   "source": [
    "##### In this task, we predict the percentage of marks of a student based on the number ofhours they study. This is a simple linear regression task since it involves 2 variables."
   ]
  },
  {
   "cell_type": "raw",
   "id": "2919da16-c00e-418b-af21-352373e512f9",
   "metadata": {},
   "source": [
    "STEPS:\n",
    "     S1: Import Libraries and Data\n",
    "     S2: Visualize the Data\n",
    "     S3: Prepare for Model\n",
    "     S4: Train the Algorithm\n",
    "     S5: Fit on Data\n",
    "     S6: Predit "
   ]
  },
  {
   "cell_type": "markdown",
   "id": "a8224d60-f34d-44b2-abb3-f75b8cb773e7",
   "metadata": {},
   "source": [
    "##"
   ]
  },
  {
   "cell_type": "markdown",
   "id": "28ad153e-b111-4a32-9658-18345cf7145b",
   "metadata": {},
   "source": [
    "### ~ Importing the required Libraries and Data"
   ]
  },
  {
   "cell_type": "code",
   "execution_count": 51,
   "id": "f2862f87-68c4-40ad-856b-875dbe3002c5",
   "metadata": {},
   "outputs": [],
   "source": [
    "import pandas as pd\n",
    "import numpy as np\n",
    "import seaborn as sns\n",
    "\n",
    "import warnings\n",
    "warnings.filterwarnings('ignore')"
   ]
  },
  {
   "cell_type": "code",
   "execution_count": 52,
   "id": "03447d26-da02-4a9b-a191-485e1efda6d3",
   "metadata": {},
   "outputs": [
    {
     "name": "stdout",
     "output_type": "stream",
     "text": [
      "Data imported sucessfully\n"
     ]
    }
   ],
   "source": [
    "url = \"http://bit.ly/w-data\"\n",
    "data = pd.read_csv(url)\n",
    "print(\"Data imported sucessfully\")"
   ]
  },
  {
   "cell_type": "code",
   "execution_count": 53,
   "id": "c1e73477-c9c9-4a7e-bceb-d2f08fb26127",
   "metadata": {},
   "outputs": [
    {
     "data": {
      "text/html": [
       "<div>\n",
       "<style scoped>\n",
       "    .dataframe tbody tr th:only-of-type {\n",
       "        vertical-align: middle;\n",
       "    }\n",
       "\n",
       "    .dataframe tbody tr th {\n",
       "        vertical-align: top;\n",
       "    }\n",
       "\n",
       "    .dataframe thead th {\n",
       "        text-align: right;\n",
       "    }\n",
       "</style>\n",
       "<table border=\"1\" class=\"dataframe\">\n",
       "  <thead>\n",
       "    <tr style=\"text-align: right;\">\n",
       "      <th></th>\n",
       "      <th>Hours</th>\n",
       "      <th>Scores</th>\n",
       "    </tr>\n",
       "  </thead>\n",
       "  <tbody>\n",
       "    <tr>\n",
       "      <th>0</th>\n",
       "      <td>2.5</td>\n",
       "      <td>21</td>\n",
       "    </tr>\n",
       "    <tr>\n",
       "      <th>1</th>\n",
       "      <td>5.1</td>\n",
       "      <td>47</td>\n",
       "    </tr>\n",
       "    <tr>\n",
       "      <th>2</th>\n",
       "      <td>3.2</td>\n",
       "      <td>27</td>\n",
       "    </tr>\n",
       "    <tr>\n",
       "      <th>3</th>\n",
       "      <td>8.5</td>\n",
       "      <td>75</td>\n",
       "    </tr>\n",
       "    <tr>\n",
       "      <th>4</th>\n",
       "      <td>3.5</td>\n",
       "      <td>30</td>\n",
       "    </tr>\n",
       "  </tbody>\n",
       "</table>\n",
       "</div>"
      ],
      "text/plain": [
       "   Hours  Scores\n",
       "0    2.5      21\n",
       "1    5.1      47\n",
       "2    3.2      27\n",
       "3    8.5      75\n",
       "4    3.5      30"
      ]
     },
     "execution_count": 53,
     "metadata": {},
     "output_type": "execute_result"
    }
   ],
   "source": [
    "data.head()"
   ]
  },
  {
   "cell_type": "code",
   "execution_count": 54,
   "id": "8459e7b8-9022-4af8-9735-05a02c5a59be",
   "metadata": {},
   "outputs": [
    {
     "data": {
      "text/plain": [
       "(25, 2)"
      ]
     },
     "execution_count": 54,
     "metadata": {},
     "output_type": "execute_result"
    }
   ],
   "source": [
    "data.shape"
   ]
  },
  {
   "cell_type": "code",
   "execution_count": 55,
   "id": "578a27be-405c-4e40-877c-0909a783b6af",
   "metadata": {},
   "outputs": [
    {
     "data": {
      "text/plain": [
       "Hours     0\n",
       "Scores    0\n",
       "dtype: int64"
      ]
     },
     "execution_count": 55,
     "metadata": {},
     "output_type": "execute_result"
    }
   ],
   "source": [
    "#checking Non values\n",
    "data.isnull().sum()"
   ]
  },
  {
   "cell_type": "code",
   "execution_count": 56,
   "id": "dc967435-06de-4b7e-b878-9524ea2a4ae2",
   "metadata": {},
   "outputs": [
    {
     "name": "stdout",
     "output_type": "stream",
     "text": [
      "<class 'pandas.core.frame.DataFrame'>\n",
      "RangeIndex: 25 entries, 0 to 24\n",
      "Data columns (total 2 columns):\n",
      " #   Column  Non-Null Count  Dtype  \n",
      "---  ------  --------------  -----  \n",
      " 0   Hours   25 non-null     float64\n",
      " 1   Scores  25 non-null     int64  \n",
      "dtypes: float64(1), int64(1)\n",
      "memory usage: 528.0 bytes\n"
     ]
    }
   ],
   "source": [
    "data.info()"
   ]
  },
  {
   "cell_type": "code",
   "execution_count": 57,
   "id": "d83040cb-103e-405f-a457-2e1cca0f43eb",
   "metadata": {},
   "outputs": [
    {
     "data": {
      "text/html": [
       "<div>\n",
       "<style scoped>\n",
       "    .dataframe tbody tr th:only-of-type {\n",
       "        vertical-align: middle;\n",
       "    }\n",
       "\n",
       "    .dataframe tbody tr th {\n",
       "        vertical-align: top;\n",
       "    }\n",
       "\n",
       "    .dataframe thead th {\n",
       "        text-align: right;\n",
       "    }\n",
       "</style>\n",
       "<table border=\"1\" class=\"dataframe\">\n",
       "  <thead>\n",
       "    <tr style=\"text-align: right;\">\n",
       "      <th></th>\n",
       "      <th>Hours</th>\n",
       "      <th>Scores</th>\n",
       "    </tr>\n",
       "  </thead>\n",
       "  <tbody>\n",
       "    <tr>\n",
       "      <th>count</th>\n",
       "      <td>25.000000</td>\n",
       "      <td>25.000000</td>\n",
       "    </tr>\n",
       "    <tr>\n",
       "      <th>mean</th>\n",
       "      <td>5.012000</td>\n",
       "      <td>51.480000</td>\n",
       "    </tr>\n",
       "    <tr>\n",
       "      <th>std</th>\n",
       "      <td>2.525094</td>\n",
       "      <td>25.286887</td>\n",
       "    </tr>\n",
       "    <tr>\n",
       "      <th>min</th>\n",
       "      <td>1.100000</td>\n",
       "      <td>17.000000</td>\n",
       "    </tr>\n",
       "    <tr>\n",
       "      <th>25%</th>\n",
       "      <td>2.700000</td>\n",
       "      <td>30.000000</td>\n",
       "    </tr>\n",
       "    <tr>\n",
       "      <th>50%</th>\n",
       "      <td>4.800000</td>\n",
       "      <td>47.000000</td>\n",
       "    </tr>\n",
       "    <tr>\n",
       "      <th>75%</th>\n",
       "      <td>7.400000</td>\n",
       "      <td>75.000000</td>\n",
       "    </tr>\n",
       "    <tr>\n",
       "      <th>max</th>\n",
       "      <td>9.200000</td>\n",
       "      <td>95.000000</td>\n",
       "    </tr>\n",
       "  </tbody>\n",
       "</table>\n",
       "</div>"
      ],
      "text/plain": [
       "           Hours     Scores\n",
       "count  25.000000  25.000000\n",
       "mean    5.012000  51.480000\n",
       "std     2.525094  25.286887\n",
       "min     1.100000  17.000000\n",
       "25%     2.700000  30.000000\n",
       "50%     4.800000  47.000000\n",
       "75%     7.400000  75.000000\n",
       "max     9.200000  95.000000"
      ]
     },
     "execution_count": 57,
     "metadata": {},
     "output_type": "execute_result"
    }
   ],
   "source": [
    "data.describe()"
   ]
  },
  {
   "cell_type": "markdown",
   "id": "094cdb5e-c6b1-42d4-abc7-91bed8b267c1",
   "metadata": {},
   "source": [
    "### ~ Visualize the Data\n",
    "We plot our points to see if we can find any relationship between the data"
   ]
  },
  {
   "cell_type": "code",
   "execution_count": 58,
   "id": "a9644348-9db4-4ca7-9bb0-b3ac233d3084",
   "metadata": {},
   "outputs": [
    {
     "data": {
      "image/png": "[encoded data removed]",
      "text/plain": [
       "<Figure size 432x288 with 1 Axes>"
      ]
     },
     "metadata": {
      "needs_background": "light"
     },
     "output_type": "display_data"
    }
   ],
   "source": [
    "# ploting relationship between score and hours\n",
    "data.plot(x='Hours',y='Scores',style='*',color='blue')\n",
    "plt.title(\"Hours vs Percentage\")\n",
    "plt.xlabel(\"Hours studied\")\n",
    "plt.ylabel(\"Percentage Score\")\n",
    "plt.show()"
   ]
  },
  {
   "cell_type": "markdown",
   "id": "f4c6a0cb-03fc-4e72-83ab-8fa96bbf8d45",
   "metadata": {},
   "source": [
    "##### => From the graph above, we can clearly see that there is a positive linear relation between the number of hours studied and percentage of score."
   ]
  },
  {
   "cell_type": "code",
   "execution_count": 59,
   "id": "1f674e0e-e61e-4fad-8f05-dae50ca6aac7",
   "metadata": {},
   "outputs": [
    {
     "data": {
      "image/png": "[encoded data removed]",
      "text/plain": [
       "<Figure size 432x288 with 1 Axes>"
      ]
     },
     "metadata": {
      "needs_background": "light"
     },
     "output_type": "display_data"
    }
   ],
   "source": [
    "data.plot(kind='bar')\n",
    "plt.show()"
   ]
  },
  {
   "cell_type": "markdown",
   "id": "4fb7f149-e245-48e7-aa60-0255265a7c1c",
   "metadata": {},
   "source": [
    "#### ~ Preparing the data"
   ]
  },
  {
   "cell_type": "code",
   "execution_count": 60,
   "id": "45859211-2900-4fa5-9ee4-a9cecb4096e6",
   "metadata": {},
   "outputs": [],
   "source": [
    "#divide the data into \"attributes\" (inputs) and \"labels\" (outputs)\n",
    "X =  data.iloc[:, :-1].values\n",
    "y =  data.iloc[:, 1].values"
   ]
  },
  {
   "cell_type": "code",
   "execution_count": 61,
   "id": "615a5470-a3ce-4f36-8333-84a447eff2fc",
   "metadata": {},
   "outputs": [],
   "source": [
    "#split this data into training and test sets\n",
    "\n",
    "from sklearn.model_selection import train_test_split\n",
    "from sklearn.linear_model import LinearRegression\n",
    "\n",
    "X_train, X_test, y_train, y_test = train_test_split(X, y, test_size=0.2, random_state=0) "
   ]
  },
  {
   "cell_type": "markdown",
   "id": "f19c0a1e-addd-4fdb-9fb6-47bc3e4d8188",
   "metadata": {},
   "source": [
    "#### ~ Training the Algorithm"
   ]
  },
  {
   "cell_type": "code",
   "execution_count": 62,
   "id": "e5be7430-d292-4caa-bdfa-5eb64d5e940e",
   "metadata": {},
   "outputs": [
    {
     "name": "stdout",
     "output_type": "stream",
     "text": [
      "Training complete.\n"
     ]
    }
   ],
   "source": [
    "LR = LinearRegression()\n",
    "LR.fit(X_train.reshape(-1,1), y_train) \n",
    "\n",
    "print(\"Training complete.\")"
   ]
  },
  {
   "cell_type": "markdown",
   "id": "97e6237a-edda-47b8-aa04-cda31e617d31",
   "metadata": {},
   "source": [
    "##### - Plotting the regression line :"
   ]
  },
  {
   "cell_type": "code",
   "execution_count": 63,
   "id": "d2e8aa30-cdce-40ac-9333-d0d456c600bc",
   "metadata": {},
   "outputs": [],
   "source": [
    "line = LR.coef_*X+LR.intercept_"
   ]
  },
  {
   "cell_type": "markdown",
   "id": "1d62afee-0801-490a-aaa6-22a61b1074b3",
   "metadata": {},
   "source": [
    "##### - Plotting for the test data :"
   ]
  },
  {
   "cell_type": "code",
   "execution_count": 64,
   "id": "b7a33af8-e59b-450a-9947-bcc5a6bb8cb9",
   "metadata": {},
   "outputs": [
    {
     "data": {
      "image/png": "[encoded data removed]",
      "text/plain": [
       "<Figure size 432x288 with 1 Axes>"
      ]
     },
     "metadata": {
      "needs_background": "light"
     },
     "output_type": "display_data"
    }
   ],
   "source": [
    "plt.scatter(X, y)\n",
    "plt.plot(X, line);\n",
    "plt.show()"
   ]
  },
  {
   "cell_type": "markdown",
   "id": "cf86a1db-540d-437f-bea5-152ed5acd41c",
   "metadata": {},
   "source": [
    "Testing data - In Hours\n",
    "### ~ Making Predictions"
   ]
  },
  {
   "cell_type": "markdown",
   "id": "10179145-fbf0-43ba-b393-6c5c9810dc63",
   "metadata": {},
   "source": [
    "##### - Testing data - In Hours"
   ]
  },
  {
   "cell_type": "code",
   "execution_count": 65,
   "id": "8eb4fd69-b989-457c-bd57-73731e788fc5",
   "metadata": {},
   "outputs": [
    {
     "name": "stdout",
     "output_type": "stream",
     "text": [
      "[[1.5]\n",
      " [3.2]\n",
      " [7.4]\n",
      " [2.5]\n",
      " [5.9]]\n"
     ]
    }
   ],
   "source": [
    "print(X_test)"
   ]
  },
  {
   "cell_type": "markdown",
   "id": "49f46c8c-67eb-4aa6-9ce0-daff3eb4c598",
   "metadata": {},
   "source": [
    "##### - Predicting the scores"
   ]
  },
  {
   "cell_type": "code",
   "execution_count": 66,
   "id": "1426cfe1-6c88-43ac-9110-2308e187c2d8",
   "metadata": {},
   "outputs": [
    {
     "name": "stdout",
     "output_type": "stream",
     "text": [
      "The predicte Y is [16.88414476 33.73226078 75.357018   26.79480124 60.49103328]\n"
     ]
    }
   ],
   "source": [
    "y_pred = LR.predict(X_test)\n",
    "print(\"The predicte Y is\", y_pred)"
   ]
  },
  {
   "cell_type": "markdown",
   "id": "0e3db418-5104-49f4-b871-72dd2a820f88",
   "metadata": {},
   "source": [
    "##### - Comparing Actual vs Predicted"
   ]
  },
  {
   "cell_type": "code",
   "execution_count": 67,
   "id": "312f7dcf-a784-48d9-86d0-1feb6f036cd6",
   "metadata": {},
   "outputs": [
    {
     "data": {
      "text/html": [
       "<div>\n",
       "<style scoped>\n",
       "    .dataframe tbody tr th:only-of-type {\n",
       "        vertical-align: middle;\n",
       "    }\n",
       "\n",
       "    .dataframe tbody tr th {\n",
       "        vertical-align: top;\n",
       "    }\n",
       "\n",
       "    .dataframe thead th {\n",
       "        text-align: right;\n",
       "    }\n",
       "</style>\n",
       "<table border=\"1\" class=\"dataframe\">\n",
       "  <thead>\n",
       "    <tr style=\"text-align: right;\">\n",
       "      <th></th>\n",
       "      <th>Actual</th>\n",
       "      <th>Predicted</th>\n",
       "    </tr>\n",
       "  </thead>\n",
       "  <tbody>\n",
       "    <tr>\n",
       "      <th>0</th>\n",
       "      <td>20</td>\n",
       "      <td>16.884145</td>\n",
       "    </tr>\n",
       "    <tr>\n",
       "      <th>1</th>\n",
       "      <td>27</td>\n",
       "      <td>33.732261</td>\n",
       "    </tr>\n",
       "    <tr>\n",
       "      <th>2</th>\n",
       "      <td>69</td>\n",
       "      <td>75.357018</td>\n",
       "    </tr>\n",
       "    <tr>\n",
       "      <th>3</th>\n",
       "      <td>30</td>\n",
       "      <td>26.794801</td>\n",
       "    </tr>\n",
       "    <tr>\n",
       "      <th>4</th>\n",
       "      <td>62</td>\n",
       "      <td>60.491033</td>\n",
       "    </tr>\n",
       "  </tbody>\n",
       "</table>\n",
       "</div>"
      ],
      "text/plain": [
       "   Actual  Predicted\n",
       "0      20  16.884145\n",
       "1      27  33.732261\n",
       "2      69  75.357018\n",
       "3      30  26.794801\n",
       "4      62  60.491033"
      ]
     },
     "execution_count": 67,
     "metadata": {},
     "output_type": "execute_result"
    }
   ],
   "source": [
    "df = pd.DataFrame({'Actual': y_test, 'Predicted': y_pred})  \n",
    "df "
   ]
  },
  {
   "cell_type": "code",
   "execution_count": 68,
   "id": "57f97b41-bac8-45f0-bef3-296f01788f27",
   "metadata": {},
   "outputs": [
    {
     "data": {
      "image/png": "[encoded data removed]",
      "text/plain": [
       "<Figure size 432x288 with 1 Axes>"
      ]
     },
     "metadata": {
      "needs_background": "light"
     },
     "output_type": "display_data"
    }
   ],
   "source": [
    "df.plot(kind='bar')\n",
    "plt.show()"
   ]
  },
  {
   "cell_type": "code",
   "execution_count": 69,
   "id": "8d016c7f-4890-4624-b5fe-92e625510c4e",
   "metadata": {},
   "outputs": [
    {
     "name": "stdout",
     "output_type": "stream",
     "text": [
      "Prediction Score is:- 0.9454906892105356\n"
     ]
    }
   ],
   "source": [
    "score = LR.score(X_test, y_test)\n",
    "print(\"Prediction Score is:-\", score)"
   ]
  },
  {
   "cell_type": "markdown",
   "id": "2e053677-c831-4bf5-a1a5-0b4502e4e0ef",
   "metadata": {},
   "source": [
    "##### - Check For The Case Given In Task"
   ]
  },
  {
   "cell_type": "markdown",
   "id": "4182faa8-9eec-4be2-861a-f2d96a02572f",
   "metadata": {},
   "source": [
    "what will be predicted score if a student studies for .75hrs/day ?"
   ]
  },
  {
   "cell_type": "code",
   "execution_count": 71,
   "id": "307d0d27-c12a-4db3-a7a5-511b1cfdf1cb",
   "metadata": {},
   "outputs": [
    {
     "name": "stdout",
     "output_type": "stream",
     "text": [
      "Prediction : [98.64706073]\n"
     ]
    }
   ],
   "source": [
    "Hour = [[9.75]]\n",
    "score = LR.predict(Hour)\n",
    "print(\"Prediction :\",score)"
   ]
  }
 ],
 "metadata": {
  "kernelspec": {
   "display_name": "Python 3 (ipykernel)",
   "language": "python",
   "name": "python3"
  },
  "language_info": {
   "codemirror_mode": {
    "name": "ipython",
    "version": 3
   },
   "file_extension": ".py",
   "mimetype": "text/x-python",
   "name": "python",
   "nbconvert_exporter": "python",
   "pygments_lexer": "ipython3",
   "version": "3.9.7"
  }
 },
 "nbformat": 4,
 "nbformat_minor": 5
}
